{
 "cells": [
  {
   "cell_type": "code",
   "execution_count": 10,
   "id": "192f76a4-ca60-4728-aeeb-730e03f81f82",
   "metadata": {},
   "outputs": [
    {
     "name": "stdout",
     "output_type": "stream",
     "text": [
      "Murdoch's Manor\n",
      "\n",
      "Cold and tired, you wake up in a dark basement. How you arrived here, unknown.\n",
      "\n",
      "=== Basement ===\n",
      "The basement has nothing of value to be found. However, you notice the hinges of the basement door are rusted.\n"
     ]
    },
    {
     "name": "stdin",
     "output_type": "stream",
     "text": [
      "Do you want to try and open the door? (Yes/No):  ye\n"
     ]
    },
    {
     "name": "stdout",
     "output_type": "stream",
     "text": [
      "Please answer 'Yes' or 'No'.\n",
      "=== Basement ===\n",
      "The basement has nothing of value to be found. However, you notice the hinges of the basement door are rusted.\n"
     ]
    },
    {
     "name": "stdin",
     "output_type": "stream",
     "text": [
      "Do you want to try and open the door? (Yes/No):  yes\n"
     ]
    },
    {
     "name": "stdout",
     "output_type": "stream",
     "text": [
      "You push against the door with all your strength. It opens.\n",
      "\n",
      "=== Living Room ===\n",
      "You step into the living room. At the far end, you see the exit, but it's guarded by a 500-pound dog.\n"
     ]
    },
    {
     "name": "stdin",
     "output_type": "stream",
     "text": [
      "You can go to the kitchen, bathroom, bedroom, or try your hand with the dog. Which do you choose?  dog\n"
     ]
    },
    {
     "name": "stdout",
     "output_type": "stream",
     "text": [
      "You bravely face the beast with nothing but your spirit. Seriously? You lose.\n",
      "\n",
      "=== Game Over ===\n"
     ]
    },
    {
     "name": "stdin",
     "output_type": "stream",
     "text": [
      "Would you like to play again? (Yes/No):  no\n"
     ]
    },
    {
     "name": "stdout",
     "output_type": "stream",
     "text": [
      "Thank you for playing! Goodbye!\n"
     ]
    }
   ],
   "source": [
    "#This is an updated version of Murdochs Manor with legibility and style improvements. All improvements were done by ChatGPT\n",
    "\n",
    "def play_game():\n",
    "\n",
    "    BOLD = '\\033[1m'\n",
    "    RESET = '\\033[0m'\n",
    "    \n",
    "    print(\"Murdoch's Manor\\n\")\n",
    "    print(\"Cold and tired, you wake up in a dark basement. How you arrived here, unknown.\\n\")\n",
    "\n",
    "    room = \"basement\"\n",
    "    inventory = []\n",
    "    sink_used_count = 0  # Counter for sink usage\n",
    "\n",
    "    while True:\n",
    "        if room == \"basement\":\n",
    "            print(\"=== Basement ===\")\n",
    "            print(\"The basement has nothing of value to be found. However, you notice the hinges of the basement door are rusted.\")\n",
    "            choice = input(\"Do you want to try and open the door? (Yes/No): \").strip().lower()\n",
    "\n",
    "            if choice == \"yes\":\n",
    "                print(\"You push against the door with all your strength. It opens.\")\n",
    "                room = \"living_room\"\n",
    "            elif choice == \"no\":\n",
    "                print(\"You leave the door be and take a fetal position on the ground. This is your life now.\")\n",
    "                break\n",
    "            else:\n",
    "                print(\"Please answer 'Yes' or 'No'.\")\n",
    "\n",
    "        elif room == \"living_room\":\n",
    "            print(\"\\n=== Living Room ===\")\n",
    "            print(\"You step into the living room. At the far end, you see the exit, but it's guarded by a 500-pound dog.\")\n",
    "            choice = input(\"You can go to the kitchen, bathroom, bedroom, or try your hand with the dog. Which do you choose? \").strip().lower()\n",
    "\n",
    "            if choice == \"kitchen\":\n",
    "                print(\"You go to the kitchen.\")\n",
    "                room = \"kitchen\"\n",
    "            elif choice == \"bathroom\":\n",
    "                print(\"You go to the bathroom.\")\n",
    "                room = \"bathroom\"\n",
    "            elif choice == \"bedroom\":\n",
    "                print(\"You go to the bedroom.\")\n",
    "                room = \"bedroom\" \n",
    "            elif choice == \"dog\":\n",
    "                if \"meat\" in inventory:\n",
    "                    print(f\"{BOLD}You throw the meat to the dog and escape. You win!{RESET}\")\n",
    "                    break\n",
    "                else:\n",
    "                    print(\"You bravely face the beast with nothing but your spirit. Seriously? You lose.\")\n",
    "                    break\n",
    "            else:\n",
    "                print(\"Please input 'bathroom', 'kitchen', 'bedroom', or 'dog'.\")\n",
    "\n",
    "        elif room == \"kitchen\":\n",
    "            print(\"\\n=== Kitchen ===\")\n",
    "            print(\"The kitchen is well-furnished and is clearly used a lot. There is not much to see besides a locked refrigerator.\")\n",
    "            choice = input(\"Go back to the living room, stay in the kitchen, or try to open the fridge? \").strip().lower()\n",
    "\n",
    "            if choice == \"living room\":\n",
    "                print(\"You return to the living room.\")\n",
    "                room = \"living_room\"\n",
    "            elif choice == \"kitchen\":\n",
    "                print(\"You stay in the kitchen.\")\n",
    "            elif choice == \"fridge\":\n",
    "                if \"key\" in inventory:\n",
    "                    print(\"You open the fridge and find a juicy steak.\")\n",
    "                    inventory.append(\"meat\")\n",
    "                    print(f\"{BOLD}You added meat to your inventory.{RESET}\") \n",
    "                else:\n",
    "                    print(\"You attempt to open the fridge but are unsuccessful.\")\n",
    "            else:\n",
    "                print(\"Please say 'living room', 'kitchen', or 'fridge'.\") \n",
    "\n",
    "        elif room == \"bathroom\":\n",
    "            print(\"\\n=== Bathroom ===\")\n",
    "            print(\"The bathroom is well-kept and clean.\")\n",
    "            choice = input(\"You could turn on the sink, sing, or go back to the living room. What do you want to do? \").strip().lower()\n",
    "\n",
    "            if choice == \"sink\":\n",
    "                sink_used_count += 1  # Increment sink usage\n",
    "                if sink_used_count == 2:\n",
    "                    print(\"You turned on the sink again. The sound attracts the man's attention.\")\n",
    "                    print(\"Unfortunately, he notices you and you lose.\")\n",
    "                    break\n",
    "                print(f\"{BOLD}You turn on the sink.{RESET}\")\n",
    "                print(\"You hear footsteps approaching.\")\n",
    "            elif choice == \"living room\":\n",
    "                print(\"You go back to the living room.\")\n",
    "                room = \"living_room\"\n",
    "            elif choice == \"sing\":\n",
    "                print(\"Practice makes perfect! Unfortunately, the dog doesn't think so.\") \n",
    "                print(\"You died.\")\n",
    "                break\n",
    "            else:\n",
    "                print(\"Please say 'sink' or 'sing'.\")\n",
    "\n",
    "        elif room == \"bedroom\":\n",
    "            print(\"\\n=== Bedroom ===\")\n",
    "            print(\"The bedroom is quite small. Clearly meant for just 1 person.\")\n",
    "            if sink_used_count < 2:\n",
    "                print(\"You notice a man sitting on the bed and a key on a table.\")\n",
    "            print(\"You could try to grab the key or go back to the living room.\")\n",
    "            \n",
    "            choice = input(\"What do you want to do? \").strip().lower()\n",
    "\n",
    "            if choice == \"key\":\n",
    "                print(\"You attempt to reach for the key but accidentally let out a non-silent and very deadly fart.\")\n",
    "                if sink_used_count == 1:\n",
    "                    print(\"Thankfully, the thunderous fart fell on deaf ears.\")\n",
    "                    inventory.append(\"key\")\n",
    "                    print(f\"{BOLD}You added the key to your inventory.{RESET}\")\n",
    "                else:\n",
    "                    print(\"The man notices you and chops off your leg. Or maybe he just tickles you. Regardless, Game Over.\")\n",
    "                    break\n",
    "            elif choice == \"living room\":\n",
    "                print(\"You go back to the living room.\")\n",
    "                room = \"living_room\"\n",
    "            else:\n",
    "                print(\"Please say 'key' or 'living room'.\")\n",
    "\n",
    "    # Game Over / Winning Section\n",
    "    print(\"\\n=== Game Over ===\")\n",
    "    play_again = input(\"Would you like to play again? (Yes/No): \").strip().lower()\n",
    "    return play_again == \"yes\"\n",
    "\n",
    "# Main loop to play the game\n",
    "while True:\n",
    "    if not play_game():\n",
    "        print(\"Thank you for playing! Goodbye!\")\n",
    "        break\n",
    "\n",
    "\n",
    "\n",
    "\n",
    "   \n",
    "\n",
    " \n",
    "        "
   ]
  },
  {
   "cell_type": "code",
   "execution_count": null,
   "id": "82ae1899-8ce5-43e4-bf2b-c55d81aebb2e",
   "metadata": {},
   "outputs": [],
   "source": [
    "No"
   ]
  }
 ],
 "metadata": {
  "kernelspec": {
   "display_name": "Python 3 (ipykernel)",
   "language": "python",
   "name": "python3"
  },
  "language_info": {
   "codemirror_mode": {
    "name": "ipython",
    "version": 3
   },
   "file_extension": ".py",
   "mimetype": "text/x-python",
   "name": "python",
   "nbconvert_exporter": "python",
   "pygments_lexer": "ipython3",
   "version": "3.12.4"
  }
 },
 "nbformat": 4,
 "nbformat_minor": 5
}
