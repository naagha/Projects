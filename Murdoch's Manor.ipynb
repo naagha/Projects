{
 "cells": [
  {
   "cell_type": "code",
   "execution_count": 19,
   "id": "192f76a4-ca60-4728-aeeb-730e03f81f82",
   "metadata": {},
   "outputs": [
    {
     "name": "stdout",
     "output_type": "stream",
     "text": [
      "Murdoch's Manor\n",
      "\n",
      "Cold and tired, you wake up in a dark basement. How you arrived here, unknown.\n",
      "\n",
      "Basement\n",
      "\n",
      "The basement has nothing of value to be found. However, you notice the hinges of the basement door are rusted.\n",
      "Do you want to try and open the door? (Yes/No)\n"
     ]
    },
    {
     "name": "stdin",
     "output_type": "stream",
     "text": [
      " yes\n"
     ]
    },
    {
     "name": "stdout",
     "output_type": "stream",
     "text": [
      "You push against the door with all your strength. It opens\n",
      "\n",
      "Living Room\n",
      "You step into the living room. At the far end you see the exit, but it's guarded by a 500 pound dog.\n",
      "You have 4 options. You can go to the kitchen, bathroom, bedroom, or you can try your hand with the dog. Which do you choose?\n"
     ]
    },
    {
     "name": "stdin",
     "output_type": "stream",
     "text": [
      " kitchen\n"
     ]
    },
    {
     "name": "stdout",
     "output_type": "stream",
     "text": [
      "You go to the kitchen\n",
      "The kitchen is well furbished and is clearly used a lot. There is not much to see besides a locked refrigerator.\n",
      "Go back to the living room, stay in the kitchen, or try to open the fridge?\n"
     ]
    },
    {
     "name": "stdin",
     "output_type": "stream",
     "text": [
      " fridge\n"
     ]
    },
    {
     "name": "stdout",
     "output_type": "stream",
     "text": [
      "You attempt to open the fridge but are unsuccesful.I\n",
      "The kitchen is well furbished and is clearly used a lot. There is not much to see besides a locked refrigerator.\n",
      "Go back to the living room, stay in the kitchen, or try to open the fridge?\n"
     ]
    },
    {
     "name": "stdin",
     "output_type": "stream",
     "text": [
      " kitchen\n"
     ]
    },
    {
     "name": "stdout",
     "output_type": "stream",
     "text": [
      "You stay in the kitchen\n",
      "The kitchen is well furbished and is clearly used a lot. There is not much to see besides a locked refrigerator.\n",
      "Go back to the living room, stay in the kitchen, or try to open the fridge?\n"
     ]
    },
    {
     "name": "stdin",
     "output_type": "stream",
     "text": [
      " living room\n"
     ]
    },
    {
     "name": "stdout",
     "output_type": "stream",
     "text": [
      "You return to the living room\n",
      "\n",
      "Living Room\n",
      "You step into the living room. At the far end you see the exit, but it's guarded by a 500 pound dog.\n",
      "You have 4 options. You can go to the kitchen, bathroom, bedroom, or you can try your hand with the dog. Which do you choose?\n"
     ]
    },
    {
     "name": "stdin",
     "output_type": "stream",
     "text": [
      " bedroom\n"
     ]
    },
    {
     "name": "stdout",
     "output_type": "stream",
     "text": [
      "You go the bedroom.\n",
      "The bedroom is quite small. Clearly meant for just 1 person.\n",
      "You notice a man sitting on the bed and a key on a table.\n",
      "You could try to grab the key or go back to the living room\n"
     ]
    },
    {
     "name": "stdin",
     "output_type": "stream",
     "text": [
      " key\n"
     ]
    },
    {
     "name": "stdout",
     "output_type": "stream",
     "text": [
      "You attempt to reach for the key but accidentally let out a non-silent and very deadly fart\n",
      "The man notices you and chops of your leg. Or maybe he just tickles you. Regardless, Game Over.\n"
     ]
    }
   ],
   "source": [
    "print(\"Murdoch's Manor\\n\")\n",
    "\n",
    "print(\"Cold and tired, you wake up in a dark basement. How you arrived here, unknown.\\n\")\n",
    "\n",
    "room = \"basement\"\n",
    "inventory = []\n",
    "sink_used = False\n",
    "\n",
    "while True:\n",
    "    if room == \"basement\":\n",
    "        print(\"Basement\\n\")\n",
    "        print(\"The basement has nothing of value to be found. However, you notice the hinges of the basement door are rusted.\")\n",
    "        print(\"Do you want to try and open the door? (Yes/No)\") \n",
    "        choice = input().strip().lower()\n",
    "    \n",
    "        if choice == \"yes\":\n",
    "            print(\"You push against the door with all your strength. It opens\")\n",
    "            room = \"living_room\"\n",
    "        elif choice == \"no\":\n",
    "            print(\"You leave the door be and take a fetal position on the ground. This is your life now.\")\n",
    "            break\n",
    "        else:\n",
    "            print(\"Please answer 'Yes' or 'No'.\")\n",
    "\n",
    "    elif room == \"living_room\":\n",
    "        print(\"\\nLiving Room\")\n",
    "        print(\"You step into the living room. At the far end you see the exit, but it's guarded by a 500 pound dog.\")\n",
    "        print(\"You have 4 options. You can go to the kitchen, bathroom, bedroom, or you can try your hand with the dog. Which do you choose?\")\n",
    "        choice = input().strip().lower()\n",
    "\n",
    "        if choice == \"kitchen\":\n",
    "            print(\"You go to the kitchen\")\n",
    "            room = \"kitchen\"\n",
    "        elif choice == \"bathroom\":\n",
    "            print(\"You go to the bathroom\")\n",
    "            room = \"bathroom\"\n",
    "        elif choice == \"bedroom\":\n",
    "            print(\"You go the bedroom.\")\n",
    "            room = \"bedroom\" \n",
    "        elif choice == \"dog\":\n",
    "            if \"meat\" in inventory:\n",
    "                print(\"You throw the meat to the dog and escape. You win!\")\n",
    "            else:\n",
    "                print(\"You bravely face the beast with nothing but your spirit. Seriously? You lose.\")\n",
    "        else:\n",
    "            print(\"Please input 'bathroom', 'kitchen', 'bedroom', or 'dog'\")\n",
    "\n",
    "    elif room == \"kitchen\":\n",
    "        print(\"The kitchen is well furbished and is clearly used a lot. There is not much to see besides a locked refrigerator.\") \n",
    "        print(\"Go back to the living room, stay in the kitchen, or try to open the fridge?\")\n",
    "        choice = input().strip().lower()\n",
    "\n",
    "        if choice == \"living room\":\n",
    "            print(\"You return to the living room\")\n",
    "            room = \"living_room\"\n",
    "        elif choice == \"kitchen\":\n",
    "            print(\"You stay in the kitchen\")\n",
    "        elif choice == \"fridge\":\n",
    "            if \"key\" in inventory:\n",
    "                print(\"You open the fridge and find a juicy steak.\")\n",
    "                inventory.append(\"meat\")\n",
    "                print(\"You added meat to your inventory.\") \n",
    "            else:\n",
    "                print(\"You attempt to open the fridge but are unsuccesful.I\")\n",
    "        else:\n",
    "            print(\"Please say 'living room','kitchen', or fridge\") \n",
    "\n",
    "    #If player has \"key\" then can open refrigerator\n",
    "\n",
    "    elif room == \"bathroom\":\n",
    "        print(\"The bathroom is well kept and clean\")\n",
    "        print(\"You could turn on the sink, sing, or go back to the living room.\")\n",
    "        choice = input().strip().lower()\n",
    "\n",
    "        if choice == \"sink\":\n",
    "            print(\"You turn on the sink\")\n",
    "            print(\"You hear footsteps approaching.\")\n",
    "            sink_used = True\n",
    "        elif choice == \"living room\":\n",
    "            print(\"You go back to the living room\")\n",
    "            room = \"living_room\"\n",
    "        elif choice == \"sing\":\n",
    "            print(\"Practice makes perfect! Unfortunately, the dog doesn't think so.\") \n",
    "            print(\"You died\")\n",
    "            break\n",
    "        else:\n",
    "            print(\"Please say 'sink' or 'sing'\")\n",
    "\n",
    "    elif room == \"bedroom\":\n",
    "        print(\"The bedroom is quite small. Clearly meant for just 1 person.\")\n",
    "        if sink_used == False:\n",
    "            print(\"You notice a man sitting on the bed and a key on a table.\")\n",
    "            print(\"You could try to grab the key or go back to the living room\")\n",
    "        else:\n",
    "            print(\"The bedroom appears to be empty. You could grab the key or go back to living room.\") \n",
    "      \n",
    "        choice = input().strip().lower()\n",
    "\n",
    "        if choice == \"key\":\n",
    "            print(\"You attempt to reach for the key but accidentally let out a non-silent and very deadly fart\")\n",
    "            if sink_used == True:\n",
    "                print(\"Thankfully, the thunderous fart fell on deaf ears.\")\n",
    "                inventory.append(\"key\")\n",
    "                print(\"You added a key to your inventory.\")\n",
    "            else:\n",
    "                print(\"The man notices you and chops of your leg. Or maybe he just tickles you. Regardless, Game Over.\")\n",
    "                break\n",
    "        elif choice == \"living room\":\n",
    "            print(\"You go back to the living room.\")\n",
    "            room = \"living_room\"\n",
    "        else:\n",
    "            print(\"Please say 'key' or 'living room'\")\n",
    "    \n",
    "\n",
    "\n",
    "   \n",
    "\n",
    " \n",
    "        "
   ]
  },
  {
   "cell_type": "code",
   "execution_count": null,
   "id": "82ae1899-8ce5-43e4-bf2b-c55d81aebb2e",
   "metadata": {},
   "outputs": [],
   "source": [
    "No"
   ]
  }
 ],
 "metadata": {
  "kernelspec": {
   "display_name": "Python 3 (ipykernel)",
   "language": "python",
   "name": "python3"
  },
  "language_info": {
   "codemirror_mode": {
    "name": "ipython",
    "version": 3
   },
   "file_extension": ".py",
   "mimetype": "text/x-python",
   "name": "python",
   "nbconvert_exporter": "python",
   "pygments_lexer": "ipython3",
   "version": "3.12.4"
  }
 },
 "nbformat": 4,
 "nbformat_minor": 5
}
