{
 "cells": [
  {
   "cell_type": "code",
   "execution_count": 22,
   "id": "57b685d2-300f-425a-ab25-4dff776b877f",
   "metadata": {},
   "outputs": [
    {
     "name": "stdout",
     "output_type": "stream",
     "text": [
      "Welcome to the Character Creator!\n"
     ]
    },
    {
     "name": "stdin",
     "output_type": "stream",
     "text": [
      "What is your character's name? john\n"
     ]
    },
    {
     "name": "stdout",
     "output_type": "stream",
     "text": [
      "Sounds good john!\n"
     ]
    },
    {
     "name": "stdin",
     "output_type": "stream",
     "text": [
      "What is your characters gender? male\n"
     ]
    },
    {
     "name": "stdout",
     "output_type": "stream",
     "text": [
      "['Human', 'Elf', 'Orc', 'Dwarf', 'Halfling']\n"
     ]
    },
    {
     "name": "stdin",
     "output_type": "stream",
     "text": [
      "What is your character's race? orc\n"
     ]
    },
    {
     "name": "stdout",
     "output_type": "stream",
     "text": [
      "{'Highborn': 'You are of noble kin; +1 Charisma.', 'Thief': 'You are a skilled brigand; +1 Agility.', 'Scholar': 'You have studied the arcane; +1 Intelligence.', 'Mercenary': 'You are always prepared; +1 Vigor.', 'Gladiator': 'You are a tool of battle; +1 Strength.'}\n"
     ]
    },
    {
     "name": "stdin",
     "output_type": "stream",
     "text": [
      "What is your character's background? thief\n"
     ]
    },
    {
     "name": "stdout",
     "output_type": "stream",
     "text": [
      "\n",
      "Current Points: 30\n",
      "Strength (Current: 0)\n"
     ]
    },
    {
     "name": "stdin",
     "output_type": "stream",
     "text": [
      "How many points do you want to add to Strength? 6\n"
     ]
    },
    {
     "name": "stdout",
     "output_type": "stream",
     "text": [
      "\n",
      "Current Points: 24\n",
      "Agility (Current: 0)\n"
     ]
    },
    {
     "name": "stdin",
     "output_type": "stream",
     "text": [
      "How many points do you want to add to Agility? 5\n"
     ]
    },
    {
     "name": "stdout",
     "output_type": "stream",
     "text": [
      "\n",
      "Current Points: 19\n",
      "Intelligence (Current: 0)\n"
     ]
    },
    {
     "name": "stdin",
     "output_type": "stream",
     "text": [
      "How many points do you want to add to Intelligence? 3\n"
     ]
    },
    {
     "name": "stdout",
     "output_type": "stream",
     "text": [
      "\n",
      "Current Points: 16\n",
      "Charisma (Current: 0)\n"
     ]
    },
    {
     "name": "stdin",
     "output_type": "stream",
     "text": [
      "How many points do you want to add to Charisma? 5\n"
     ]
    },
    {
     "name": "stdout",
     "output_type": "stream",
     "text": [
      "\n",
      "Current Points: 11\n",
      "Vigor (Current: 0)\n"
     ]
    },
    {
     "name": "stdin",
     "output_type": "stream",
     "text": [
      "How many points do you want to add to Vigor? 6\n"
     ]
    },
    {
     "name": "stdout",
     "output_type": "stream",
     "text": [
      "{'Xenophobic': '+10% dmg to other races, -10% dmg to same race.', 'Bachelor': '+10% persuasion chance. Doubled against opposite gender.', 'Lucky': 'More likely to find hidden coin and items.', 'Intimidating': '+15% damage. -1 Intelligence and Charisma.', 'Gifted': 'Faster mana regeneration and pool size. -15% melee defense.', 'Glutton': '+25% health regeneration. -1 Agility.', 'Sneaky': 'More likely to stay hidden. Bonus to stealth skills.'}\n"
     ]
    },
    {
     "name": "stdin",
     "output_type": "stream",
     "text": [
      "What is your characters trait? bachelor\n"
     ]
    },
    {
     "name": "stdout",
     "output_type": "stream",
     "text": [
      "Character Name: john\n",
      "Gender: male\n",
      "Race: orc\n",
      "Background: thief\n",
      "Strength: 6\n",
      "Agility: 5\n",
      "Intelligence: 3\n",
      "Charisma: 5\n",
      "Vigor: 6\n",
      "Trait: bachelor\n"
     ]
    }
   ],
   "source": [
    "\n",
    "attributes = {\n",
    "    'Strength': 0,\n",
    "    'Agility': 0,\n",
    "    'Intelligence': 0,\n",
    "    'Charisma': 0,\n",
    "    'Vigor': 0\n",
    "}\n",
    "\n",
    "total_points = 30\n",
    "\n",
    "\n",
    "\n",
    "\n",
    "print(\"Welcome to the Character Creator!\")\n",
    "\n",
    "name = input(\"What is your character's name?\")\n",
    "\n",
    "print(f\"Sounds good {name}!\") \n",
    "\n",
    "gender = input(\"What is your characters gender?\")\n",
    "\n",
    "skills = [\"Strength\", \"Agility\", \"Intelligence\", \"Charisma\", \"Vigor\"]\n",
    "races = [\"Human\", \"Elf\", \"Orc\", \"Dwarf\", \"Halfling\"]\n",
    "\n",
    "traits = {\n",
    "    \"Xenophobic\": \"+10% dmg to other races, -10% dmg to same race.\", \n",
    "    \"Bachelor\": \"+10% persuasion chance. Doubled against opposite gender.\",   \n",
    "    \"Lucky\": \"More likely to find hidden coin and items.\",  \n",
    "    \"Intimidating\": \"+15% damage. -1 Intelligence and Charisma.\",\n",
    "    \"Gifted\": \"Faster mana regeneration and pool size. -15% melee defense.\",   \n",
    "    \"Glutton\": \"+25% health regeneration. -1 Agility.\", \n",
    "    \"Sneaky\": \"More likely to stay hidden. Bonus to stealth skills.\"  \n",
    "}\n",
    "\n",
    "background = {\n",
    "    \"Highborn\": \"You are of noble kin; +1 Charisma.\",\n",
    "    \"Thief\": \"You are a skilled brigand; +1 Agility.\",  \n",
    "    \"Scholar\": \"You have studied the arcane; +1 Intelligence.\", \n",
    "    \"Mercenary\": \"You are always prepared; +1 Vigor.\",\n",
    "    \"Gladiator\": \"You are a tool of battle; +1 Strength.\"\n",
    "}\n",
    "\n",
    "print(races)\n",
    "selected_race = input(\"What is your character's race?\")\n",
    "\n",
    "\n",
    "print(background)\n",
    "selected_background = input(\"What is your character's background?\")\n",
    "\n",
    "\n",
    "for attribute in attributes.keys():\n",
    "    while True:\n",
    "        print(f\"\\nCurrent Points: {total_points}\")\n",
    "        print(f\"{attribute} (Current: {attributes[attribute]})\") \n",
    "\n",
    "        points_to_add = int(input(f\"How many points do you want to add to {attribute}?\"))\n",
    "\n",
    "        if points_to_add < 0:\n",
    "            print(\"Please enter a positive number.\")\n",
    "        elif points_to_add + sum(attributes.values()) > 30:\n",
    "            print(\"Not enough points.\") \n",
    "        elif points_to_add + attributes[attribute] > 10:\n",
    "            print(\"You can't exceed 10 points for this attribute.\") \n",
    "        else:\n",
    "            attributes[attribute] += points_to_add\n",
    "            total_points -= points_to_add\n",
    "            break\n",
    "\n",
    "\n",
    "print(traits)\n",
    "selected_trait = input(\"What is your characters trait?\")\n",
    "\n",
    "\n",
    "\n",
    "\n",
    "\n",
    "print(f\"Character Name: {name}\")\n",
    "print(f\"Gender: {gender}\")                     \n",
    "print(f\"Race: {selected_race}\")\n",
    "print(f\"Background: {selected_background}\")\n",
    "for attribute, value in attributes.items():\n",
    "    print(f\"{attribute}: {value}\")\n",
    "print(f\"Trait: {selected_trait}\")"
   ]
  },
  {
   "cell_type": "code",
   "execution_count": 11,
   "id": "e13831a6-8c19-4a35-b172-382e007d50bc",
   "metadata": {},
   "outputs": [
    {
     "ename": "NameError",
     "evalue": "name 'races' is not defined",
     "output_type": "error",
     "traceback": [
      "\u001b[1;31m---------------------------------------------------------------------------\u001b[0m",
      "\u001b[1;31mNameError\u001b[0m                                 Traceback (most recent call last)",
      "Cell \u001b[1;32mIn[11], line 1\u001b[0m\n\u001b[1;32m----> 1\u001b[0m \u001b[38;5;28mprint\u001b[39m(races)\n",
      "\u001b[1;31mNameError\u001b[0m: name 'races' is not defined"
     ]
    }
   ],
   "source": []
  },
  {
   "cell_type": "code",
   "execution_count": null,
   "id": "10538f9b-cc46-4bdb-b0f9-9a72705ce738",
   "metadata": {},
   "outputs": [],
   "source": []
  }
 ],
 "metadata": {
  "kernelspec": {
   "display_name": "Python 3 (ipykernel)",
   "language": "python",
   "name": "python3"
  },
  "language_info": {
   "codemirror_mode": {
    "name": "ipython",
    "version": 3
   },
   "file_extension": ".py",
   "mimetype": "text/x-python",
   "name": "python",
   "nbconvert_exporter": "python",
   "pygments_lexer": "ipython3",
   "version": "3.12.4"
  }
 },
 "nbformat": 4,
 "nbformat_minor": 5
}
