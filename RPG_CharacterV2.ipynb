{
 "cells": [
  {
   "cell_type": "code",
   "execution_count": 5,
   "id": "75831bbd-3140-4a84-a3db-7d6959f54ba4",
   "metadata": {},
   "outputs": [
    {
     "name": "stdout",
     "output_type": "stream",
     "text": [
      "Welcome to the Character Creator!\n"
     ]
    },
    {
     "name": "stdin",
     "output_type": "stream",
     "text": [
      "What is your character's name?  john\n"
     ]
    },
    {
     "name": "stdout",
     "output_type": "stream",
     "text": [
      "Sounds good, john!\n"
     ]
    },
    {
     "name": "stdin",
     "output_type": "stream",
     "text": [
      "What is your character's gender?  male\n"
     ]
    },
    {
     "name": "stdout",
     "output_type": "stream",
     "text": [
      "\n",
      "Available Races: Human, Elf, Orc, Dwarf, Halfling\n"
     ]
    },
    {
     "name": "stdin",
     "output_type": "stream",
     "text": [
      "What is your character's race?  orc\n"
     ]
    },
    {
     "name": "stdout",
     "output_type": "stream",
     "text": [
      "\n",
      "Available Backgrounds and Descriptions:\n",
      "Highborn: You are of noble kin; +1 Charisma.\n",
      "Thief: You are a skilled brigand; +1 Agility.\n",
      "Scholar: You have studied the arcane; +1 Intelligence.\n",
      "Mercenary: You are always prepared; +1 Vigor.\n",
      "Gladiator: You are a tool of battle; +1 Strength.\n"
     ]
    },
    {
     "name": "stdin",
     "output_type": "stream",
     "text": [
      "What is your character's background?  highborn\n"
     ]
    },
    {
     "name": "stdout",
     "output_type": "stream",
     "text": [
      "\n",
      "Current Points Available: 30\n",
      "Strength (Current: 0)\n"
     ]
    },
    {
     "name": "stdin",
     "output_type": "stream",
     "text": [
      "How many points do you want to add to Strength?  5\n"
     ]
    },
    {
     "name": "stdout",
     "output_type": "stream",
     "text": [
      "\n",
      "Current Points Available: 25\n",
      "Agility (Current: 0)\n"
     ]
    },
    {
     "name": "stdin",
     "output_type": "stream",
     "text": [
      "How many points do you want to add to Agility?  5\n"
     ]
    },
    {
     "name": "stdout",
     "output_type": "stream",
     "text": [
      "\n",
      "Current Points Available: 20\n",
      "Intelligence (Current: 0)\n"
     ]
    },
    {
     "name": "stdin",
     "output_type": "stream",
     "text": [
      "How many points do you want to add to Intelligence?  5\n"
     ]
    },
    {
     "name": "stdout",
     "output_type": "stream",
     "text": [
      "\n",
      "Current Points Available: 15\n",
      "Charisma (Current: 0)\n"
     ]
    },
    {
     "name": "stdin",
     "output_type": "stream",
     "text": [
      "How many points do you want to add to Charisma?  5\n"
     ]
    },
    {
     "name": "stdout",
     "output_type": "stream",
     "text": [
      "\n",
      "Current Points Available: 10\n",
      "Vigor (Current: 0)\n"
     ]
    },
    {
     "name": "stdin",
     "output_type": "stream",
     "text": [
      "How many points do you want to add to Vigor?  10\n"
     ]
    },
    {
     "name": "stdout",
     "output_type": "stream",
     "text": [
      "\n",
      "Available Traits:\n",
      "Xenophobic: +10% damage to other races, -10% damage to same race.\n",
      "Bachelor: +10% persuasion chance. Doubled against opposite gender.\n",
      "Lucky: More likely to find hidden coins and items.\n",
      "Intimidating: +15% damage. -1 Intelligence and Charisma.\n",
      "Gifted: Faster mana regeneration and pool size. -15% melee defense.\n",
      "Glutton: +25% health regeneration. -1 Agility.\n",
      "Sneaky: More likely to stay hidden. Bonus to stealth skills.\n"
     ]
    },
    {
     "name": "stdin",
     "output_type": "stream",
     "text": [
      "What is your character's trait?  glutton\n"
     ]
    },
    {
     "name": "stdout",
     "output_type": "stream",
     "text": [
      "\n",
      "Character Details:\n",
      "Name: john\n",
      "Gender: male\n",
      "Race: orc\n",
      "Background: highborn\n",
      "Strength: 5\n",
      "Agility: 5\n",
      "Intelligence: 5\n",
      "Charisma: 5\n",
      "Vigor: 10\n",
      "Trait: glutton\n"
     ]
    }
   ],
   "source": [
    "# Revised version of RPG_Character with improvements done through ChatGPT. \n",
    "attributes = {\n",
    "    'Strength': 0,\n",
    "    'Agility': 0,\n",
    "    'Intelligence': 0,\n",
    "    'Charisma': 0,\n",
    "    'Vigor': 0\n",
    "}\n",
    "\n",
    "total_points = 30\n",
    "\n",
    "print(\"Welcome to the Character Creator!\")\n",
    "\n",
    "# Get character name and gender\n",
    "name = input(\"What is your character's name? \")\n",
    "print(f\"Sounds good, {name}!\") \n",
    "\n",
    "gender = input(\"What is your character's gender? \")\n",
    "\n",
    "# Define available options\n",
    "skills = list(attributes.keys())\n",
    "races = [\"Human\", \"Elf\", \"Orc\", \"Dwarf\", \"Halfling\"]\n",
    "traits = {\n",
    "    \"Xenophobic\": (\"+10% damage to other races, -10% damage to same race.\", {\"Strength\": 0, \"Agility\": 0, \"Intelligence\": 0, \"Charisma\": 0, \"Vigor\": 0}),\n",
    "    \"Bachelor\": (\"+10% persuasion chance. Doubled against opposite gender.\", {\"Charisma\": 1}),\n",
    "    \"Lucky\": (\"More likely to find hidden coins and items.\", {}),\n",
    "    \"Intimidating\": (\"+15% damage. -1 Intelligence and Charisma.\", {\"Intelligence\": -1, \"Charisma\": -1}),\n",
    "    \"Gifted\": (\"Faster mana regeneration and pool size. -15% melee defense.\", {\"Strength\": -1}),\n",
    "    \"Glutton\": (\"+25% health regeneration. -1 Agility.\", {\"Agility\": -1}),\n",
    "    \"Sneaky\": (\"More likely to stay hidden. Bonus to stealth skills.\", {})\n",
    "}\n",
    "\n",
    "backgrounds = {\n",
    "    \"Highborn\": (\"You are of noble kin; +1 Charisma.\", {\"Charisma\": 1}),\n",
    "    \"Thief\": (\"You are a skilled brigand; +1 Agility.\", {\"Agility\": 1}),  \n",
    "    \"Scholar\": (\"You have studied the arcane; +1 Intelligence.\", {\"Intelligence\": 1}), \n",
    "    \"Mercenary\": (\"You are always prepared; +1 Vigor.\", {\"Vigor\": 1}),\n",
    "    \"Gladiator\": (\"You are a tool of battle; +1 Strength.\", {\"Strength\": 1})\n",
    "}\n",
    "\n",
    "# Race selection\n",
    "print(\"\\nAvailable Races:\", \", \".join(races))\n",
    "selected_race = input(\"What is your character's race? \")\n",
    "\n",
    "# Background selection with descriptions\n",
    "print(\"\\nAvailable Backgrounds and Descriptions:\")\n",
    "for bg, (description, _) in backgrounds.items():\n",
    "    print(f\"{bg}: {description}\")\n",
    "\n",
    "selected_background = input(\"What is your character's background? \")\n",
    "\n",
    "# Allocate attribute points\n",
    "for attribute in attributes.keys():\n",
    "    while True:\n",
    "        print(f\"\\nCurrent Points Available: {total_points}\")\n",
    "        print(f\"{attribute} (Current: {attributes[attribute]})\") \n",
    "\n",
    "        try:\n",
    "            points_to_add = int(input(f\"How many points do you want to add to {attribute}? \"))\n",
    "        except ValueError:\n",
    "            print(\"Please enter a valid number.\")\n",
    "            continue\n",
    "\n",
    "        if points_to_add < 0:\n",
    "            print(\"Please enter a positive number.\")\n",
    "        elif points_to_add + sum(attributes.values()) > 30:\n",
    "            print(\"Not enough points available.\")\n",
    "        elif points_to_add + attributes[attribute] > 10:\n",
    "            print(\"You can't exceed 10 points for this attribute.\")\n",
    "        else:\n",
    "            attributes[attribute] += points_to_add\n",
    "            total_points -= points_to_add\n",
    "            break\n",
    "\n",
    "# Trait selection with descriptions\n",
    "print(\"\\nAvailable Traits:\")\n",
    "for trait, (description, _) in traits.items():\n",
    "    print(f\"{trait}: {description}\")\n",
    "\n",
    "selected_trait = input(\"What is your character's trait? \")\n",
    "\n",
    "# Apply background effects\n",
    "if selected_background in backgrounds:\n",
    "    _, background_effect = backgrounds[selected_background]\n",
    "    for attr, change in background_effect.items():\n",
    "        attributes[attr] += change\n",
    "\n",
    "# Apply trait effects\n",
    "if selected_trait in traits:\n",
    "    _, trait_effect = traits[selected_trait]\n",
    "    for attr, change in trait_effect.items():\n",
    "        attributes[attr] += change\n",
    "\n",
    "# Final character details\n",
    "print(\"\\nCharacter Details:\")\n",
    "print(f\"Name: {name}\")\n",
    "print(f\"Gender: {gender}\")\n",
    "print(f\"Race: {selected_race}\")\n",
    "print(f\"Background: {selected_background}\")\n",
    "\n",
    "# Print attributes after applying effects\n",
    "for attribute, value in attributes.items():\n",
    "    print(f\"{attribute}: {value}\")\n",
    "\n",
    "print(f\"Trait: {selected_trait}\")\n"
   ]
  },
  {
   "cell_type": "code",
   "execution_count": null,
   "id": "03ff098a-be56-4108-a307-fb4b132f3da8",
   "metadata": {},
   "outputs": [],
   "source": []
  }
 ],
 "metadata": {
  "kernelspec": {
   "display_name": "Python 3 (ipykernel)",
   "language": "python",
   "name": "python3"
  },
  "language_info": {
   "codemirror_mode": {
    "name": "ipython",
    "version": 3
   },
   "file_extension": ".py",
   "mimetype": "text/x-python",
   "name": "python",
   "nbconvert_exporter": "python",
   "pygments_lexer": "ipython3",
   "version": "3.12.4"
  }
 },
 "nbformat": 4,
 "nbformat_minor": 5
}
